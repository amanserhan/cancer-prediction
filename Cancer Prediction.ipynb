{
 "cells": [
  {
   "cell_type": "markdown",
   "id": "e71263c2-babf-4692-9033-29a7d0bffe11",
   "metadata": {},
   "source": [
    "# Predicting Cancer Diagnoses\n",
    "This project leverages a dataset of 1500 patients, containing their medical and lifestyle information to predict their cancer diagnosis. Both k-nearest neighbor models and logistic regression models are used and compared to increase the accuracy of the results."
   ]
  },
  {
   "cell_type": "markdown",
   "id": "58b1c5c7-e79d-4d61-a6b9-cdbbdf0de9b0",
   "metadata": {},
   "source": [
    "## 1. Load and Preview Data"
   ]
  },
  {
   "cell_type": "code",
   "execution_count": 97,
   "id": "720d8866-9a3d-483d-886d-5ee6c5769850",
   "metadata": {},
   "outputs": [
    {
     "data": {
      "text/html": [
       "<div>\n",
       "<style scoped>\n",
       "    .dataframe tbody tr th:only-of-type {\n",
       "        vertical-align: middle;\n",
       "    }\n",
       "\n",
       "    .dataframe tbody tr th {\n",
       "        vertical-align: top;\n",
       "    }\n",
       "\n",
       "    .dataframe thead th {\n",
       "        text-align: right;\n",
       "    }\n",
       "</style>\n",
       "<table border=\"1\" class=\"dataframe\">\n",
       "  <thead>\n",
       "    <tr style=\"text-align: right;\">\n",
       "      <th></th>\n",
       "      <th>Age</th>\n",
       "      <th>Gender</th>\n",
       "      <th>BMI</th>\n",
       "      <th>Smoking</th>\n",
       "      <th>GeneticRisk</th>\n",
       "      <th>PhysicalActivity</th>\n",
       "      <th>AlcoholIntake</th>\n",
       "      <th>CancerHistory</th>\n",
       "      <th>Diagnosis</th>\n",
       "    </tr>\n",
       "  </thead>\n",
       "  <tbody>\n",
       "    <tr>\n",
       "      <th>0</th>\n",
       "      <td>58</td>\n",
       "      <td>1</td>\n",
       "      <td>16.085313</td>\n",
       "      <td>0</td>\n",
       "      <td>1</td>\n",
       "      <td>8.146251</td>\n",
       "      <td>4.148219</td>\n",
       "      <td>1</td>\n",
       "      <td>1</td>\n",
       "    </tr>\n",
       "    <tr>\n",
       "      <th>1</th>\n",
       "      <td>71</td>\n",
       "      <td>0</td>\n",
       "      <td>30.828784</td>\n",
       "      <td>0</td>\n",
       "      <td>1</td>\n",
       "      <td>9.361630</td>\n",
       "      <td>3.519683</td>\n",
       "      <td>0</td>\n",
       "      <td>0</td>\n",
       "    </tr>\n",
       "    <tr>\n",
       "      <th>2</th>\n",
       "      <td>48</td>\n",
       "      <td>1</td>\n",
       "      <td>38.785084</td>\n",
       "      <td>0</td>\n",
       "      <td>2</td>\n",
       "      <td>5.135179</td>\n",
       "      <td>4.728368</td>\n",
       "      <td>0</td>\n",
       "      <td>1</td>\n",
       "    </tr>\n",
       "    <tr>\n",
       "      <th>3</th>\n",
       "      <td>34</td>\n",
       "      <td>0</td>\n",
       "      <td>30.040296</td>\n",
       "      <td>0</td>\n",
       "      <td>0</td>\n",
       "      <td>9.502792</td>\n",
       "      <td>2.044636</td>\n",
       "      <td>0</td>\n",
       "      <td>0</td>\n",
       "    </tr>\n",
       "    <tr>\n",
       "      <th>4</th>\n",
       "      <td>62</td>\n",
       "      <td>1</td>\n",
       "      <td>35.479721</td>\n",
       "      <td>0</td>\n",
       "      <td>0</td>\n",
       "      <td>5.356890</td>\n",
       "      <td>3.309849</td>\n",
       "      <td>0</td>\n",
       "      <td>1</td>\n",
       "    </tr>\n",
       "  </tbody>\n",
       "</table>\n",
       "</div>"
      ],
      "text/plain": [
       "   Age  Gender        BMI  Smoking  GeneticRisk  PhysicalActivity  \\\n",
       "0   58       1  16.085313        0            1          8.146251   \n",
       "1   71       0  30.828784        0            1          9.361630   \n",
       "2   48       1  38.785084        0            2          5.135179   \n",
       "3   34       0  30.040296        0            0          9.502792   \n",
       "4   62       1  35.479721        0            0          5.356890   \n",
       "\n",
       "   AlcoholIntake  CancerHistory  Diagnosis  \n",
       "0       4.148219              1          1  \n",
       "1       3.519683              0          0  \n",
       "2       4.728368              0          1  \n",
       "3       2.044636              0          0  \n",
       "4       3.309849              0          1  "
      ]
     },
     "execution_count": 97,
     "metadata": {},
     "output_type": "execute_result"
    }
   ],
   "source": [
    "import matplotlib.pyplot as plt\n",
    "import numpy as np\n",
    "import pandas as pd\n",
    "\n",
    "data = pd.read_csv(\"/Users/amanserhan/cancer_detection/The_Cancer_data_1500_V2.csv\")\n",
    "data.head()"
   ]
  },
  {
   "cell_type": "code",
   "execution_count": 98,
   "id": "933a3c95-671e-403b-9333-c3c2a8509dbd",
   "metadata": {},
   "outputs": [
    {
     "name": "stdout",
     "output_type": "stream",
     "text": [
      "<class 'pandas.core.frame.DataFrame'>\n",
      "RangeIndex: 1500 entries, 0 to 1499\n",
      "Data columns (total 9 columns):\n",
      " #   Column            Non-Null Count  Dtype  \n",
      "---  ------            --------------  -----  \n",
      " 0   Age               1500 non-null   int64  \n",
      " 1   Gender            1500 non-null   int64  \n",
      " 2   BMI               1500 non-null   float64\n",
      " 3   Smoking           1500 non-null   int64  \n",
      " 4   GeneticRisk       1500 non-null   int64  \n",
      " 5   PhysicalActivity  1500 non-null   float64\n",
      " 6   AlcoholIntake     1500 non-null   float64\n",
      " 7   CancerHistory     1500 non-null   int64  \n",
      " 8   Diagnosis         1500 non-null   int64  \n",
      "dtypes: float64(3), int64(6)\n",
      "memory usage: 105.6 KB\n"
     ]
    }
   ],
   "source": [
    "data.info()"
   ]
  },
  {
   "cell_type": "code",
   "execution_count": 99,
   "id": "809d15ab-da21-45e7-ab9e-daff98d3ee12",
   "metadata": {},
   "outputs": [
    {
     "data": {
      "text/html": [
       "<div>\n",
       "<style scoped>\n",
       "    .dataframe tbody tr th:only-of-type {\n",
       "        vertical-align: middle;\n",
       "    }\n",
       "\n",
       "    .dataframe tbody tr th {\n",
       "        vertical-align: top;\n",
       "    }\n",
       "\n",
       "    .dataframe thead th {\n",
       "        text-align: right;\n",
       "    }\n",
       "</style>\n",
       "<table border=\"1\" class=\"dataframe\">\n",
       "  <thead>\n",
       "    <tr style=\"text-align: right;\">\n",
       "      <th></th>\n",
       "      <th>Age</th>\n",
       "      <th>Gender</th>\n",
       "      <th>BMI</th>\n",
       "      <th>Smoking</th>\n",
       "      <th>GeneticRisk</th>\n",
       "      <th>PhysicalActivity</th>\n",
       "      <th>AlcoholIntake</th>\n",
       "      <th>CancerHistory</th>\n",
       "      <th>Diagnosis</th>\n",
       "    </tr>\n",
       "  </thead>\n",
       "  <tbody>\n",
       "    <tr>\n",
       "      <th>count</th>\n",
       "      <td>1500.000000</td>\n",
       "      <td>1500.000000</td>\n",
       "      <td>1500.000000</td>\n",
       "      <td>1500.000000</td>\n",
       "      <td>1500.000000</td>\n",
       "      <td>1500.000000</td>\n",
       "      <td>1500.000000</td>\n",
       "      <td>1500.000000</td>\n",
       "      <td>1500.000000</td>\n",
       "    </tr>\n",
       "    <tr>\n",
       "      <th>mean</th>\n",
       "      <td>50.320000</td>\n",
       "      <td>0.490667</td>\n",
       "      <td>27.513321</td>\n",
       "      <td>0.269333</td>\n",
       "      <td>0.508667</td>\n",
       "      <td>4.897929</td>\n",
       "      <td>2.417987</td>\n",
       "      <td>0.144000</td>\n",
       "      <td>0.371333</td>\n",
       "    </tr>\n",
       "    <tr>\n",
       "      <th>std</th>\n",
       "      <td>17.640968</td>\n",
       "      <td>0.500080</td>\n",
       "      <td>7.230012</td>\n",
       "      <td>0.443761</td>\n",
       "      <td>0.678895</td>\n",
       "      <td>2.866162</td>\n",
       "      <td>1.419318</td>\n",
       "      <td>0.351207</td>\n",
       "      <td>0.483322</td>\n",
       "    </tr>\n",
       "    <tr>\n",
       "      <th>min</th>\n",
       "      <td>20.000000</td>\n",
       "      <td>0.000000</td>\n",
       "      <td>15.000291</td>\n",
       "      <td>0.000000</td>\n",
       "      <td>0.000000</td>\n",
       "      <td>0.002410</td>\n",
       "      <td>0.001215</td>\n",
       "      <td>0.000000</td>\n",
       "      <td>0.000000</td>\n",
       "    </tr>\n",
       "    <tr>\n",
       "      <th>25%</th>\n",
       "      <td>35.000000</td>\n",
       "      <td>0.000000</td>\n",
       "      <td>21.483134</td>\n",
       "      <td>0.000000</td>\n",
       "      <td>0.000000</td>\n",
       "      <td>2.434609</td>\n",
       "      <td>1.210598</td>\n",
       "      <td>0.000000</td>\n",
       "      <td>0.000000</td>\n",
       "    </tr>\n",
       "    <tr>\n",
       "      <th>50%</th>\n",
       "      <td>51.000000</td>\n",
       "      <td>0.000000</td>\n",
       "      <td>27.598494</td>\n",
       "      <td>0.000000</td>\n",
       "      <td>0.000000</td>\n",
       "      <td>4.834316</td>\n",
       "      <td>2.382971</td>\n",
       "      <td>0.000000</td>\n",
       "      <td>0.000000</td>\n",
       "    </tr>\n",
       "    <tr>\n",
       "      <th>75%</th>\n",
       "      <td>66.000000</td>\n",
       "      <td>1.000000</td>\n",
       "      <td>33.850837</td>\n",
       "      <td>1.000000</td>\n",
       "      <td>1.000000</td>\n",
       "      <td>7.409896</td>\n",
       "      <td>3.585624</td>\n",
       "      <td>0.000000</td>\n",
       "      <td>1.000000</td>\n",
       "    </tr>\n",
       "    <tr>\n",
       "      <th>max</th>\n",
       "      <td>80.000000</td>\n",
       "      <td>1.000000</td>\n",
       "      <td>39.958688</td>\n",
       "      <td>1.000000</td>\n",
       "      <td>2.000000</td>\n",
       "      <td>9.994607</td>\n",
       "      <td>4.987115</td>\n",
       "      <td>1.000000</td>\n",
       "      <td>1.000000</td>\n",
       "    </tr>\n",
       "  </tbody>\n",
       "</table>\n",
       "</div>"
      ],
      "text/plain": [
       "               Age       Gender          BMI      Smoking  GeneticRisk  \\\n",
       "count  1500.000000  1500.000000  1500.000000  1500.000000  1500.000000   \n",
       "mean     50.320000     0.490667    27.513321     0.269333     0.508667   \n",
       "std      17.640968     0.500080     7.230012     0.443761     0.678895   \n",
       "min      20.000000     0.000000    15.000291     0.000000     0.000000   \n",
       "25%      35.000000     0.000000    21.483134     0.000000     0.000000   \n",
       "50%      51.000000     0.000000    27.598494     0.000000     0.000000   \n",
       "75%      66.000000     1.000000    33.850837     1.000000     1.000000   \n",
       "max      80.000000     1.000000    39.958688     1.000000     2.000000   \n",
       "\n",
       "       PhysicalActivity  AlcoholIntake  CancerHistory    Diagnosis  \n",
       "count       1500.000000    1500.000000    1500.000000  1500.000000  \n",
       "mean           4.897929       2.417987       0.144000     0.371333  \n",
       "std            2.866162       1.419318       0.351207     0.483322  \n",
       "min            0.002410       0.001215       0.000000     0.000000  \n",
       "25%            2.434609       1.210598       0.000000     0.000000  \n",
       "50%            4.834316       2.382971       0.000000     0.000000  \n",
       "75%            7.409896       3.585624       0.000000     1.000000  \n",
       "max            9.994607       4.987115       1.000000     1.000000  "
      ]
     },
     "execution_count": 99,
     "metadata": {},
     "output_type": "execute_result"
    }
   ],
   "source": [
    "data.describe()"
   ]
  },
  {
   "cell_type": "markdown",
   "id": "ad3aa3da-98c2-495f-a01e-fa54ecfe7309",
   "metadata": {},
   "source": [
    "## 2. Analysis and Modelling"
   ]
  },
  {
   "cell_type": "markdown",
   "id": "eb98e13b-909d-459e-8b23-882217803041",
   "metadata": {},
   "source": [
    "We've got 8 possible columns that can be used as features in our model: age, gender, BMI, genetic risk, physical activity, alcohol intake, and cancer history. Let's start with three of these feature and evaluate them then adjust accordingly. Age, physical activity and smoking habits seem to be a good starting point, so let's train a KNN and a Logistic Regression model on these three features to start."
   ]
  },
  {
   "cell_type": "markdown",
   "id": "98aee8af-7166-4b3d-a559-95bfc7c28c7c",
   "metadata": {},
   "source": [
    "### KNN Model (Age, Physical Activity, Smoking Habits)"
   ]
  },
  {
   "cell_type": "code",
   "execution_count": 103,
   "id": "0f9ff1e8-49e0-4863-bc0c-246f9d9306f3",
   "metadata": {},
   "outputs": [
    {
     "name": "stdout",
     "output_type": "stream",
     "text": [
      "0.673\n"
     ]
    }
   ],
   "source": [
    "# Imports\n",
    "from sklearn import preprocessing\n",
    "from sklearn.model_selection import train_test_split\n",
    "from sklearn.neighbors import KNeighborsClassifier\n",
    "from sklearn.preprocessing import MinMaxScaler\n",
    "\n",
    "# Split features and target\n",
    "features = data[[\"Age\", \"PhysicalActivity\", \"Smoking\"]]\n",
    "target = data[\"Diagnosis\"]\n",
    "\n",
    "# Train Test Split\n",
    "training_data, validation_data, training_labels, validation_labels = train_test_split(\n",
    "    features, target, test_size=0.2, random_state=100\n",
    ")\n",
    "\n",
    "# Fitting a min-max scaler to the training data\n",
    "scaler = MinMaxScaler()\n",
    "scaler.fit(training_data)\n",
    "\n",
    "# Scaling the training and validation data\n",
    "training_data_scaled = scaler.transform(training_data)\n",
    "validation_data_scaled = scaler.transform(validation_data)\n",
    "\n",
    "training_data_scaled = pd.DataFrame(training_data_scaled, columns=features.columns)\n",
    "validation_data_scaled = pd.DataFrame(validation_data_scaled, columns=features.columns)\n",
    "\n",
    "# Creating, fitting and evaluating the KNN model\n",
    "k = 5\n",
    "knn = KNeighborsClassifier(n_neighbors=k)\n",
    "knn.fit(training_data_scaled, training_labels)\n",
    "print(round(knn.score(validation_data_scaled, validation_labels), 3))"
   ]
  },
  {
   "cell_type": "markdown",
   "id": "396865de-3f8b-40ca-9074-32d1b7bf5ac9",
   "metadata": {},
   "source": [
    "Let's test out different k values to improve our accuracy score."
   ]
  },
  {
   "cell_type": "code",
   "execution_count": 105,
   "id": "394023d5-9b0f-4054-a571-1ed975fb5a78",
   "metadata": {},
   "outputs": [
    {
     "name": "stdout",
     "output_type": "stream",
     "text": [
      "k =  1 ;  0.577\n",
      "k =  3 ;  0.643\n",
      "k =  5 ;  0.673\n",
      "k =  7 ;  0.673\n",
      "k =  9 ;  0.663\n",
      "k =  11 ;  0.653\n",
      "k =  13 ;  0.65\n",
      "k =  15 ;  0.667\n",
      "k =  17 ;  0.67\n",
      "k =  19 ;  0.663\n",
      "k =  21 ;  0.66\n",
      "k =  23 ;  0.673\n",
      "k =  25 ;  0.67\n",
      "k =  27 ;  0.687\n",
      "k =  29 ;  0.673\n",
      "k =  31 ;  0.68\n",
      "k =  33 ;  0.69\n",
      "k =  35 ;  0.687\n",
      "k =  37 ;  0.69\n",
      "k =  39 ;  0.69\n",
      "k =  41 ;  0.69\n",
      "k =  43 ;  0.68\n",
      "k =  45 ;  0.69\n",
      "k =  47 ;  0.69\n",
      "k =  49 ;  0.693\n",
      "k =  51 ;  0.693\n",
      "k =  53 ;  0.687\n",
      "k =  55 ;  0.69\n",
      "k =  57 ;  0.687\n",
      "k =  59 ;  0.683\n",
      "k =  61 ;  0.677\n",
      "k =  63 ;  0.68\n",
      "k =  65 ;  0.683\n",
      "k =  67 ;  0.673\n",
      "k =  69 ;  0.673\n",
      "k =  71 ;  0.68\n",
      "k =  73 ;  0.687\n",
      "k =  75 ;  0.683\n",
      "k =  77 ;  0.683\n",
      "k =  79 ;  0.683\n",
      "k =  81 ;  0.69\n",
      "k =  83 ;  0.687\n",
      "k =  85 ;  0.687\n",
      "k =  87 ;  0.69\n",
      "k =  89 ;  0.693\n",
      "k =  91 ;  0.693\n",
      "k =  93 ;  0.683\n",
      "k =  95 ;  0.683\n",
      "k =  97 ;  0.683\n",
      "k =  99 ;  0.687\n"
     ]
    },
    {
     "data": {
      "image/png": "[encoded data removed]",
      "text/plain": [
       "<Figure size 640x480 with 1 Axes>"
      ]
     },
     "metadata": {},
     "output_type": "display_data"
    }
   ],
   "source": [
    "# For loop training the knn model on a k equaling odd values from 1 to 100 and storing the respective accuracy scores.\n",
    "accuracies = []\n",
    "for k in range(1, 100, 2):\n",
    "    knn = KNeighborsClassifier(n_neighbors=k)\n",
    "    knn.fit(training_data_scaled, training_labels)\n",
    "    score = round(knn.score(validation_data_scaled, validation_labels), 3)\n",
    "    print(\"k = \", k, \"; \", score)\n",
    "    accuracy = knn.score(validation_data_scaled, validation_labels)\n",
    "    accuracies.append(accuracy)\n",
    "\n",
    "\n",
    "plt.plot(range(1, 100, 2), accuracies)\n",
    "plt.title(\"K vs Accuracies\")\n",
    "plt.xlabel(\"K\")\n",
    "plt.ylabel(\"Accuracies\")\n",
    "plt.show()"
   ]
  },
  {
   "cell_type": "markdown",
   "id": "12677a24-f73c-4fcd-a9c9-753e002274fa",
   "metadata": {},
   "source": [
    "The highest score we got from trying k values from 1 to 100 (odd values) is 0.693. But we're getting a score of 0.69 as early as k=33, however, so let's stick with that for now. The other question to answer is how the impact of each feature compares.\n",
    "The math behind a KNN algorithm does not support calculating feature importances. We purposefully scale our features before inputting them into the model to ensure features with larger scales do not dominate the calculation. And the nearest neighbors are determined by the points with the most dimensions that are close to the unclassified point. The only possible way to deduce feature importance is by running a different algorithm, like a regression or random forest, calculating their feature importances and inferring that to be similar to the KNN model. However, for our purposes, let's try changing the features up and seeing if the accuracy is improved. If that is not the case, we can try a different classification model, such a logistic regression, where calculating feature importance is more straightforward. "
   ]
  },
  {
   "cell_type": "markdown",
   "id": "7497ba6c-b4c5-4e2f-8200-c259870e42cc",
   "metadata": {},
   "source": [
    "### KNN Model (Genetic Risk, Alcohol Intake, Cancer History)"
   ]
  },
  {
   "cell_type": "code",
   "execution_count": 108,
   "id": "1abfdcdd-2235-4e8a-99b8-d15519ce321b",
   "metadata": {},
   "outputs": [
    {
     "name": "stdout",
     "output_type": "stream",
     "text": [
      "0.763\n"
     ]
    }
   ],
   "source": [
    "# Split features and target\n",
    "features = data[[\"GeneticRisk\", \"AlcoholIntake\", \"CancerHistory\"]]\n",
    "target = data[\"Diagnosis\"]\n",
    "\n",
    "training_data, validation_data, training_labels, validation_labels = train_test_split(\n",
    "    features, target, test_size=0.2, random_state=100\n",
    ")\n",
    "\n",
    "# Train Test Split\n",
    "scaler = MinMaxScaler()\n",
    "scaler.fit(training_data)\n",
    "\n",
    "# Fitting a min-max scaler to the training data\n",
    "training_data_scaled = scaler.transform(training_data)\n",
    "validation_data_scaled = scaler.transform(validation_data)\n",
    "\n",
    "# Scaling the training and validation data\n",
    "training_data_scaled = pd.DataFrame(training_data_scaled, columns=features.columns)\n",
    "validation_data_scaled = pd.DataFrame(validation_data_scaled, columns=features.columns)\n",
    "\n",
    "# Creating, fitting and evaluating the KNN model\n",
    "k = 5\n",
    "knn = KNeighborsClassifier(n_neighbors=k)\n",
    "knn.fit(training_data_scaled, training_labels)\n",
    "print(round(knn.score(validation_data_scaled, validation_labels), 3))"
   ]
  },
  {
   "cell_type": "markdown",
   "id": "14f8553f-f009-4cae-bd4a-26f21e5532d4",
   "metadata": {},
   "source": [
    "Already we're seeing a higher score for this collection of features, but let's make sure we've got the most accurate k in this case as well:"
   ]
  },
  {
   "cell_type": "code",
   "execution_count": 110,
   "id": "a29fcc61-b99f-42c4-97f8-b712e360af8e",
   "metadata": {},
   "outputs": [
    {
     "name": "stdout",
     "output_type": "stream",
     "text": [
      "k =  1 ;  0.74\n",
      "k =  3 ;  0.74\n",
      "k =  5 ;  0.763\n",
      "k =  7 ;  0.747\n",
      "k =  9 ;  0.743\n",
      "k =  11 ;  0.757\n",
      "k =  13 ;  0.763\n",
      "k =  15 ;  0.757\n",
      "k =  17 ;  0.767\n",
      "k =  19 ;  0.767\n",
      "k =  21 ;  0.763\n",
      "k =  23 ;  0.767\n",
      "k =  25 ;  0.763\n",
      "k =  27 ;  0.763\n",
      "k =  29 ;  0.767\n",
      "k =  31 ;  0.767\n",
      "k =  33 ;  0.763\n",
      "k =  35 ;  0.77\n",
      "k =  37 ;  0.77\n",
      "k =  39 ;  0.77\n",
      "k =  41 ;  0.77\n",
      "k =  43 ;  0.76\n",
      "k =  45 ;  0.767\n",
      "k =  47 ;  0.767\n",
      "k =  49 ;  0.767\n",
      "k =  51 ;  0.767\n",
      "k =  53 ;  0.767\n",
      "k =  55 ;  0.767\n",
      "k =  57 ;  0.767\n",
      "k =  59 ;  0.767\n",
      "k =  61 ;  0.767\n",
      "k =  63 ;  0.767\n",
      "k =  65 ;  0.767\n",
      "k =  67 ;  0.767\n",
      "k =  69 ;  0.767\n",
      "k =  71 ;  0.767\n",
      "k =  73 ;  0.767\n",
      "k =  75 ;  0.767\n",
      "k =  77 ;  0.767\n",
      "k =  79 ;  0.767\n",
      "k =  81 ;  0.767\n",
      "k =  83 ;  0.767\n",
      "k =  85 ;  0.767\n",
      "k =  87 ;  0.767\n",
      "k =  89 ;  0.767\n",
      "k =  91 ;  0.767\n",
      "k =  93 ;  0.767\n",
      "k =  95 ;  0.767\n",
      "k =  97 ;  0.767\n",
      "k =  99 ;  0.767\n"
     ]
    },
    {
     "data": {
      "image/png": "[encoded data removed]",
      "text/plain": [
       "<Figure size 640x480 with 1 Axes>"
      ]
     },
     "metadata": {},
     "output_type": "display_data"
    }
   ],
   "source": [
    "# For loop training the knn model on a k equaling odd values from 1 to 100 and storing the respective accuracy scores.\n",
    "accuracies = []\n",
    "for k in range(1, 100, 2):\n",
    "    knn = KNeighborsClassifier(n_neighbors=k)\n",
    "    knn.fit(training_data_scaled, training_labels)\n",
    "    score = round(knn.score(validation_data_scaled, validation_labels), 3)\n",
    "    print(\"k = \", k, \"; \", score)\n",
    "    accuracy = knn.score(validation_data_scaled, validation_labels)\n",
    "    accuracies.append(accuracy)\n",
    "\n",
    "\n",
    "plt.plot(range(1, 100, 2), accuracies)\n",
    "plt.title(\"K vs Accuracies\")\n",
    "plt.xlabel(\"K\")\n",
    "plt.ylabel(\"Accuracies\")\n",
    "plt.show()"
   ]
  },
  {
   "cell_type": "markdown",
   "id": "f69deb8c-0f02-4d4d-8898-c2bfb57330f6",
   "metadata": {},
   "source": [
    "A k of 35 seems to be our best bet, with an accuracy score for 0.77. This tells us that one, two or all three features we used the second time around are more closely correlated with our target result, the diagnosis. If we could calculate feature importance, we could keep only the most closely correlated features in the model to maximize the accuracy of our model. Since that is tough to do with KNN let's do this again with logistic regression and see if we can further improve the accuracy of our classifier."
   ]
  },
  {
   "cell_type": "markdown",
   "id": "e694c993-0c22-46cb-ba61-15702e92df03",
   "metadata": {},
   "source": [
    "### Logistic Regression Model (Age, Physical Activity, Smoking Habits)"
   ]
  },
  {
   "cell_type": "code",
   "execution_count": 113,
   "id": "06801469-6a94-41cc-b755-718b01940a4e",
   "metadata": {},
   "outputs": [
    {
     "name": "stdout",
     "output_type": "stream",
     "text": [
      "0.67\n"
     ]
    }
   ],
   "source": [
    "# Imports\n",
    "from sklearn.linear_model import LogisticRegression\n",
    "from sklearn.preprocessing import StandardScaler\n",
    "\n",
    "# Split features and target\n",
    "features = data[[\"Age\", \"PhysicalActivity\", \"Smoking\"]]\n",
    "target = data[\"Diagnosis\"]\n",
    "\n",
    "# Train Test Split\n",
    "training_data, validation_data, training_labels, validation_labels = train_test_split(\n",
    "    features, target, test_size=0.2, random_state=100\n",
    ")\n",
    "\n",
    "# Fitting and scaling a standard scaler to the data\n",
    "scaler = StandardScaler()\n",
    "training_data_scaled = scaler.fit_transform(training_data)\n",
    "validation_data_scaled = scaler.transform(validation_data)\n",
    "\n",
    "# Creating, fitting, and evaluating the Logistic Regression model\n",
    "model = LogisticRegression()\n",
    "model.fit(training_data_scaled, training_labels)\n",
    "print(model.score(validation_data_scaled, validation_labels))"
   ]
  },
  {
   "cell_type": "markdown",
   "id": "4287b9c3-7bb7-4b4d-a4dc-74eb4b5c21cd",
   "metadata": {},
   "source": [
    "We got the same accuracy score as we did with the KNN model on the same features, so we can assume that the second second features will yield a comparable result as well. Before we change the features, however, let's look at our coefficients from this set of features. "
   ]
  },
  {
   "cell_type": "code",
   "execution_count": 115,
   "id": "f7ecfb9d-66ac-4fa4-b24f-bb0093f48581",
   "metadata": {},
   "outputs": [
    {
     "name": "stdout",
     "output_type": "stream",
     "text": [
      "[[ 0.49110373 -0.33548608  0.51705854]]\n"
     ]
    }
   ],
   "source": [
    "print(model.coef_)"
   ]
  },
  {
   "cell_type": "markdown",
   "id": "39c9efef-dee4-42cc-915b-b3da71831bc0",
   "metadata": {},
   "source": [
    "Age and Smoking Habits are similar in importance, and physical activity is the least important of all three.\n",
    "Let's do this again with our second set of features we used for the KNN model, genetic risk, alcohol intake, and cancer history."
   ]
  },
  {
   "cell_type": "markdown",
   "id": "aa3b8d18-2383-4951-861f-cc460d78f640",
   "metadata": {},
   "source": [
    "### Logistic Regression Model (Genetic Risk, Alcohol Intake, Cancer History)"
   ]
  },
  {
   "cell_type": "code",
   "execution_count": 118,
   "id": "9efd2f48-b985-4801-b742-a00e6fa6c915",
   "metadata": {},
   "outputs": [
    {
     "name": "stdout",
     "output_type": "stream",
     "text": [
      "0.7366666666666667\n"
     ]
    }
   ],
   "source": [
    "# Split features and target\n",
    "features = data[[\"GeneticRisk\", \"AlcoholIntake\", \"CancerHistory\"]]\n",
    "target = data[\"Diagnosis\"]\n",
    "\n",
    "# Train Test Split\n",
    "training_data, validation_data, training_labels, validation_labels = train_test_split(\n",
    "    features, target, test_size=0.2, random_state=100\n",
    ")\n",
    "\n",
    "# Fitting and scaling a standard scaler to the data\n",
    "scaler = StandardScaler()\n",
    "training_data_scaled = scaler.fit_transform(training_data)\n",
    "validation_data_scaled = scaler.transform(validation_data)\n",
    "\n",
    "# Creating, fitting, and evaluating the Logistic Regression model\n",
    "model = LogisticRegression()\n",
    "model.fit(training_data_scaled, training_labels)\n",
    "print(model.score(validation_data_scaled, validation_labels))"
   ]
  },
  {
   "cell_type": "markdown",
   "id": "bff08539-1e0f-4129-b43a-0fa133c44d11",
   "metadata": {},
   "source": [
    "As expected, we got a similar accuracy to the second KNN model. Once again, let's look at the coefficients:"
   ]
  },
  {
   "cell_type": "code",
   "execution_count": 120,
   "id": "b7101970-f97b-46b1-a234-5b82429d4565",
   "metadata": {},
   "outputs": [
    {
     "name": "stdout",
     "output_type": "stream",
     "text": [
      "[[0.65465253 0.4955507  1.01422245]]\n"
     ]
    }
   ],
   "source": [
    "print(model.coef_)"
   ]
  },
  {
   "cell_type": "markdown",
   "id": "a8728b67-7aca-421b-b025-606b57493960",
   "metadata": {},
   "source": [
    "All of the features in this set seems to be more closely correlated with the diagnosis, compared with the previous set. However, there's two more columns in our dataframe that we haven't tried yet, gender and BMI. Let's fit a logistic regression model with these two features and see our results, to decide if they should make the final cut."
   ]
  },
  {
   "cell_type": "markdown",
   "id": "00f206a6-4e73-4b97-b2ba-d95fc7227fa2",
   "metadata": {},
   "source": [
    "### Logistic Regression Model (Gender, BMI)"
   ]
  },
  {
   "cell_type": "code",
   "execution_count": 123,
   "id": "bd4a78c6-22a4-4023-9496-ad058565b2da",
   "metadata": {},
   "outputs": [
    {
     "name": "stdout",
     "output_type": "stream",
     "text": [
      "0.6866666666666666\n",
      "[[0.53538809 0.42205448]]\n"
     ]
    }
   ],
   "source": [
    "# Split features and target\n",
    "features = data[[\"Gender\", \"BMI\"]]\n",
    "target = data[\"Diagnosis\"]\n",
    "\n",
    "# Train Test Split\n",
    "training_data, validation_data, training_labels, validation_labels = train_test_split(\n",
    "    features, target, test_size=0.2, random_state=100\n",
    ")\n",
    "\n",
    "# Fitting and scaling a standard scaler to the data\n",
    "scaler = StandardScaler()\n",
    "training_data_scaled = scaler.fit_transform(training_data)\n",
    "validation_data_scaled = scaler.transform(validation_data)\n",
    "\n",
    "# Creating, fitting, and evaluating the Logistic Regression model\n",
    "model = LogisticRegression()\n",
    "model.fit(training_data_scaled, training_labels)\n",
    "print(model.score(validation_data_scaled, validation_labels))\n",
    "print(model.coef_)"
   ]
  },
  {
   "cell_type": "markdown",
   "id": "d589a676-3991-4b3c-9bdf-a619123ab1ec",
   "metadata": {},
   "source": [
    "Not too bad - gender seems to be more closely correlated with the diagnosis, but it's still pretty modertate. Since the coefficient for the gender feature is a positive number, and a value of 1 is associated with females, we can conclude that females have a slightly higher chance of getting a positive cancer diagnosis. \n",
    "\n",
    "Now that we've looked at all of our features, let's train a model on the most significant features and see if we can improve the accuracy further: \n",
    "\n",
    "Genetic Risk, Cancer History, Smoking, Gender"
   ]
  },
  {
   "cell_type": "markdown",
   "id": "313e8f39-b244-466f-9cfd-65e0cdaa779a",
   "metadata": {},
   "source": [
    "### Logistic Regression Model (Genetic Risk, Cancer History, Smoking, Gender)"
   ]
  },
  {
   "cell_type": "code",
   "execution_count": 126,
   "id": "ac255257-5d89-496b-a5f0-90277a3d19a9",
   "metadata": {},
   "outputs": [
    {
     "name": "stdout",
     "output_type": "stream",
     "text": [
      "0.7733333333333333\n",
      "[[0.75275006 1.1575112  0.63537594 0.72259186]]\n"
     ]
    }
   ],
   "source": [
    "# Split features and target\n",
    "features = data[[\"GeneticRisk\", \"CancerHistory\", \"Smoking\", \"Gender\"]]\n",
    "target = data[\"Diagnosis\"]\n",
    "\n",
    "# Train Test Split\n",
    "training_data, validation_data, training_labels, validation_labels = train_test_split(\n",
    "    features, target, test_size=0.2, random_state=100\n",
    ")\n",
    "\n",
    "# Fitting and scaling a standard scaler to the data\n",
    "scaler = StandardScaler()\n",
    "training_data_scaled = scaler.fit_transform(training_data)\n",
    "validation_data_scaled = scaler.transform(validation_data)\n",
    "\n",
    "# Creating, fitting, and evaluating the Logistic Regression model\n",
    "model = LogisticRegression()\n",
    "model.fit(training_data_scaled, training_labels)\n",
    "print(model.score(validation_data_scaled, validation_labels))\n",
    "print(model.coef_)"
   ]
  },
  {
   "cell_type": "markdown",
   "id": "6475f514-3b07-4296-aba6-768dae545e71",
   "metadata": {},
   "source": [
    "This is our highest accuracy score yet, but let's add in the alcohol intake feature as well and see if that improve our accuracy."
   ]
  },
  {
   "cell_type": "markdown",
   "id": "1f27154a-a136-4b4d-acac-b0b4ad145cc1",
   "metadata": {},
   "source": [
    "### Logistic Regression Model (Genetic Risk, Cancer History, Smoking, Gender, Alcohol Intake)"
   ]
  },
  {
   "cell_type": "code",
   "execution_count": 129,
   "id": "16c6c022-2a7a-4c60-870c-6ef42850be3b",
   "metadata": {},
   "outputs": [
    {
     "name": "stdout",
     "output_type": "stream",
     "text": [
      "0.8\n",
      "[[0.80097753 1.18698225 0.67597224 0.75691569 0.57644873]]\n"
     ]
    }
   ],
   "source": [
    "# Split features and target\n",
    "features = data[[\"GeneticRisk\", \"CancerHistory\", \"Smoking\", \"Gender\", \"AlcoholIntake\"]]\n",
    "target = data[\"Diagnosis\"]\n",
    "\n",
    "# Train Test Split\n",
    "training_data, validation_data, training_labels, validation_labels = train_test_split(\n",
    "    features, target, test_size=0.2, random_state=100\n",
    ")\n",
    "\n",
    "# Fitting and scaling a standard scaler to the data\n",
    "scaler = StandardScaler()\n",
    "training_data_scaled = scaler.fit_transform(training_data)\n",
    "validation_data_scaled = scaler.transform(validation_data)\n",
    "\n",
    "# Creating, fitting, and evaluating the Logistic Regression model\n",
    "model = LogisticRegression()\n",
    "model.fit(training_data_scaled, training_labels)\n",
    "print(model.score(validation_data_scaled, validation_labels))\n",
    "print(model.coef_)"
   ]
  },
  {
   "cell_type": "markdown",
   "id": "43388618-4f06-40fa-acce-12797677a035",
   "metadata": {},
   "source": [
    "We're seeing a slight improvement in the accuracy of the model after adding in the alcohol intake. \n",
    "Based on these results, we can rank the impact each of these factors can have on getting a positive diagnosis:\n",
    "1. Cancer History\n",
    "2. Genetic Risk\n",
    "3. Gender\n",
    "4. Smoking\n",
    "5. Alcohol Intake\n"
   ]
  }
 ],
 "metadata": {
  "kernelspec": {
   "display_name": "Python 3 (ipykernel)",
   "language": "python",
   "name": "python3"
  },
  "language_info": {
   "codemirror_mode": {
    "name": "ipython",
    "version": 3
   },
   "file_extension": ".py",
   "mimetype": "text/x-python",
   "name": "python",
   "nbconvert_exporter": "python",
   "pygments_lexer": "ipython3",
   "version": "3.10.13"
  }
 },
 "nbformat": 4,
 "nbformat_minor": 5
}
